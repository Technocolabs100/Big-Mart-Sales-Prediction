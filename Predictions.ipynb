import numpy as np
import pandas as pd
import seaborn as sns
import matplotlib.pyplot as plt
%matplotlib inline

train_data = pd.read_csv("../input/big-mart-salescsv/Train_UWu5bXk.csv")
test_data = pd.read_csv("../input/big-mart-salescsv/Test_u94Q5KV.csv")
train_data.head()
test_data.head()
train_data.info()
train_data.drop('Item_Identifier',axis=1,inplace=True)
test_data.drop('Item_Identifier',axis=1,inplace=True)

sns.countplot(x='Item_Fat_Content',data=train_data);
def clean_col(col):
    if(col=="low fat" or col=="LF"):
        return "Low Fat"
    elif(col=="reg"):
        return "Regular"
    else:
        return col

train_data['Item_Fat_Content']=train_data['Item_Fat_Content'].apply(clean_col)

sns.countplot(x='Item_Fat_Content',data=train_data)
sns.countplot(x='Item_Fat_Content',data=test_data)
test_data['Item_Fat_Content']=test_data['Item_Fat_Content'].apply(clean_col)
sns.countplot(x='Item_Fat_Content',data=test_data)

plt.figure(figsize=(12,3))
sns.countplot(x='Item_Type',data=train_data)
sns.heatmap(train_data.isnull(),yticklabels=False,cbar=False,cmap='viridis')

train_data.drop('Outlet_Identifier',axis=1,inplace=True)
test_data.drop('Outlet_Identifier',axis=1,inplace=True)
sns.heatmap(train_data.isnull(),yticklabels=False,cbar=False,cmap='viridis')

plt.figure(figsize=(15,3))
sns.boxplot(x="Item_Type", y="Item_Weight", data=train_data,palette='rainbow')

train_data.groupby('Item_Type').mean()['Item_Weight']

def fill_null(row):
    if(pd.isnull(row['Item_Weight'])):
        row['Item_Weight']=train_data.groupby('Item_Type').mean()['Item_Weight'][row['Item_Type']]
        return row
    else:
        return row
train_data = train_data.apply(fill_null,axis=1)

sns.heatmap(train_data.isnull(),yticklabels=False,cbar=False,cmap='viridis')

sns.countplot(x='Outlet_Size',data=train_data,hue='Outlet_Type')

def fill_size(row):
    if(pd.isnull(row['Outlet_Size'])):
        if(row['Outlet_Type']=="Supermarket Type1"):
            row['Outlet_Size']="Small"
            return row
        elif(row['Outlet_Type']=="Supermarket Type2"):
            row['Outlet_Size']="Medium"
            return row
        elif(row['Outlet_Type']=="Supermarket Type3"):
            row['Outlet_Size']="Medium"
            return row
        else:
            row['Outlet_Size']="Small"
            return row
    else:
       return row

train_data = train_data.apply(fill_size,axis=1)

sns.heatmap(train_data.isnull(),yticklabels=False,cbar=False,cmap='viridis')

sns.heatmap(test_data.isnull(),yticklabels=False,cbar=False,cmap='viridis')

def fill_null2(row):
    if(pd.isnull(row['Item_Weight'])):
        row['Item_Weight']=test_data.groupby('Item_Type').mean()['Item_Weight'][row['Item_Type']]
        return row
    else:
        return row


test_data = test_data.apply(fill_null2,axis=1)

sns.heatmap(test_data.isnull(),yticklabels=False,cbar=False,cmap='viridis')

sns.countplot(x='Outlet_Size',data=test_data,hue='Outlet_Type')


def fill_size2(row):
    if(pd.isnull(row['Outlet_Size'])):
        if(row['Outlet_Type']=="Supermarket Type1"):
            row['Outlet_Size']="Small"
            return row
        elif(row['Outlet_Type']=="Supermarket Type2"):
            row['Outlet_Size']="Medium"
            return row
        elif(row['Outlet_Type']=="Supermarket Type3"):
            row['Outlet_Size']="Medium"
            return row
        else:
            row['Outlet_Size']="Small"
            return row
    else:
       return row

test_data = test_data.apply(fill_size2,axis=1)


sns.heatmap(test_data.isnull(),yticklabels=False,cbar=False,cmap='viridis')

data_types = train_data.dtypes
for cols in train_data.columns:
    if data_types[cols]==data_types['Item_Type']:
        temp = pd.get_dummies(train_data[cols],drop_first=True)
        train_data.drop(cols,axis=1,inplace=True)
        train_data = pd.concat([train_data,temp],axis=1)
#data.head()

train_data.head()


data_types = test_data.dtypes
for cols in test_data.columns:
    if data_types[cols]==data_types['Item_Type']:
        temp = pd.get_dummies(test_data[cols],drop_first=True)
        test_data.drop(cols,axis=1,inplace=True)
        test_data = pd.concat([test_data,temp],axis=1)

test_data.head()

from sklearn.tree import DecisionTreeRegressor
regr = DecisionTreeRegressor()
regr.fit(train_data.drop('Item_Outlet_Sales',axis=1),train_data['Item_Outlet_Sales'])

X_train = train_data.drop('Item_Outlet_Sales',axis=1)
y_train = train_data['Item_Outlet_Sales']
print("Training Accuracy for Decision Tree regressor :", regr.score(X_train, y_train))

predictions = regr.predict(test_data)

pd.Series(predictions)
